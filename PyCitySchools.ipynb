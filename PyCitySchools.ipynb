{
 "cells": [
  {
   "cell_type": "code",
   "execution_count": null,
   "id": "68883705",
   "metadata": {},
   "outputs": [],
   "source": [
    "# Add the Pandas dependency\n",
    "import pandas as pd\n",
    "import os"
   ]
  },
  {
   "cell_type": "code",
   "execution_count": null,
   "id": "f9800421",
   "metadata": {},
   "outputs": [],
   "source": [
    "# direct file path to load the csv\n",
    "#school_data_to_load = \"Resources/schools_complete.csv\"\n",
    "#student_data_to_load = \"Resources/students_complete.csv\"\n",
    "\n",
    "# indirect file path to load the csv\n",
    "school_data_to_load = os.path.join(\"Resources\",\"schools_complete.csv\")\n",
    "student_data_to_load = os.path.join(\"Resources\",\"students_complete.csv\")"
   ]
  },
  {
   "cell_type": "code",
   "execution_count": null,
   "id": "e6ed9bcc",
   "metadata": {},
   "outputs": [],
   "source": [
    "# Read the data file\n",
    "school_data_df = pd.read_csv(school_data_to_load)\n",
    "school_data_df.head()"
   ]
  },
  {
   "cell_type": "code",
   "execution_count": null,
   "id": "85a82d48",
   "metadata": {},
   "outputs": [],
   "source": [
    "# Read the student data\n",
    "student_data_df = pd.read_csv(student_data_to_load)\n",
    "student_data_df.head()"
   ]
  },
  {
   "cell_type": "code",
   "execution_count": null,
   "id": "d999681d",
   "metadata": {},
   "outputs": [],
   "source": [
    "# Cleaning the data  \n",
    "# Determine if there are any missing values in the school data using count()\n",
    "school_data_df.count()\n",
    "school_data_df\n"
   ]
  },
  {
   "cell_type": "code",
   "execution_count": null,
   "id": "725690f0",
   "metadata": {},
   "outputs": [],
   "source": [
    "# Determine if there are any missing values in the student data using count()\n",
    "student_data_df.count()"
   ]
  },
  {
   "cell_type": "code",
   "execution_count": null,
   "id": "18a43df1",
   "metadata": {},
   "outputs": [],
   "source": [
    "# Determine if there are any missing values in the student data using isnull()\n",
    "school_data_df.isnull()"
   ]
  },
  {
   "cell_type": "code",
   "execution_count": null,
   "id": "72ffd868",
   "metadata": {},
   "outputs": [],
   "source": [
    "# Determine if there are any missing values in the student data using isnull()\n",
    "student_data_df.isnull().sum()"
   ]
  },
  {
   "cell_type": "code",
   "execution_count": null,
   "id": "3fbc165d",
   "metadata": {},
   "outputs": [],
   "source": [
    "# Determine if there are any missing values in the student data using notnull()\n",
    "school_data_df.notnull()\n"
   ]
  },
  {
   "cell_type": "code",
   "execution_count": null,
   "id": "fc386f18",
   "metadata": {},
   "outputs": [],
   "source": [
    "# Determine if there are any missing values in the student data using notnull()\n",
    "student_data_df.notnull().sum()"
   ]
  },
  {
   "cell_type": "code",
   "execution_count": null,
   "id": "dd359024",
   "metadata": {},
   "outputs": [],
   "source": [
    "# Determine the data types for the school DataFrame\n",
    "school_data_df.dtypes"
   ]
  },
  {
   "cell_type": "code",
   "execution_count": null,
   "id": "3c3ad969",
   "metadata": {},
   "outputs": [],
   "source": [
    "# Determine the datatypes for columns inschool data\n",
    "school_data_df.size.dtype"
   ]
  },
  {
   "cell_type": "code",
   "execution_count": null,
   "id": "7435aed4",
   "metadata": {},
   "outputs": [],
   "source": [
    "# Determine the datatype for 'budget' column\n",
    "school_data_df.budget.dtype"
   ]
  },
  {
   "cell_type": "code",
   "execution_count": null,
   "id": "c4165f4d",
   "metadata": {},
   "outputs": [],
   "source": [
    "school_data_df['budget'].dtype"
   ]
  },
  {
   "cell_type": "code",
   "execution_count": null,
   "id": "e8167e7e",
   "metadata": {},
   "outputs": [],
   "source": [
    "# Determine the datatypes for columns in student data\n",
    "student_data_df.dtypes"
   ]
  },
  {
   "cell_type": "code",
   "execution_count": null,
   "id": "8057c984",
   "metadata": {},
   "outputs": [],
   "source": [
    "# Clean up the prefixes and suffixes in the student names \n",
    "# Add each prefix and suffix to remove to a list.\n",
    "prefixes_suffixes = [\"Dr. \", \"Mr. \",\"Ms. \", \"Mrs. \", \"Miss \", \" MD\", \" DDS\", \" DVM\", \" PhD\"]\n",
    "\n",
    "for word in prefixes_suffixes:\n",
    "    student_data_df[\"student_name\"] = student_data_df[\"student_name\"].str.replace(word,\"\")\n",
    "print(student_data_df.sample(15))"
   ]
  },
  {
   "cell_type": "code",
   "execution_count": null,
   "id": "5c62dafe",
   "metadata": {
    "scrolled": true
   },
   "outputs": [],
   "source": [
    "# To get the School District's metrics we need to merge the DataFrames\n",
    "school_data_complete_df = pd.merge(student_data_df,school_data_df, on=\"school_name\")\n",
    "school_data_complete_df.head()\n",
    "school_data_complete_df.count()"
   ]
  },
  {
   "cell_type": "code",
   "execution_count": null,
   "id": "1c34e317",
   "metadata": {},
   "outputs": [],
   "source": [
    "# Get the schools count from the merged DataFrame\n",
    "len(school_data_complete_df[\"school_name\"].unique())"
   ]
  },
  {
   "cell_type": "code",
   "execution_count": null,
   "id": "c1a07a3c",
   "metadata": {},
   "outputs": [],
   "source": [
    "# Get the budget of those unique schools\n",
    "school_budget = school_data_complete_df[\"budget\"].unique()\n",
    "total_school_budget = school_budget.sum()\n",
    "total_school_budget"
   ]
  },
  {
   "cell_type": "code",
   "execution_count": null,
   "id": "4042488e",
   "metadata": {},
   "outputs": [],
   "source": [
    "# Find average of reading scores of students\n",
    "school_data_complete_df['reading_score'].mean()"
   ]
  },
  {
   "cell_type": "code",
   "execution_count": null,
   "id": "c9137a40",
   "metadata": {},
   "outputs": [],
   "source": [
    "# Find average of math scores of students\n",
    "school_data_complete_df['math_score'].mean()"
   ]
  },
  {
   "cell_type": "code",
   "execution_count": null,
   "id": "6b083cea",
   "metadata": {},
   "outputs": [],
   "source": [
    "# Determine the passing grade for math\n",
    "passing_math = school_data_complete_df['math_score'] >= 70\n",
    "\n",
    "# Determine the passing grade for reading\n",
    "passing_reading = school_data_complete_df['reading_score'] >= 70\n"
   ]
  },
  {
   "cell_type": "code",
   "execution_count": null,
   "id": "2896ab6b",
   "metadata": {},
   "outputs": [],
   "source": [
    "passing_math"
   ]
  },
  {
   "cell_type": "code",
   "execution_count": null,
   "id": "3a57a297",
   "metadata": {},
   "outputs": [],
   "source": [
    "# Get all the students who are passing math in a new DataFrame.\n",
    "passing_math = school_data_complete_df[school_data_complete_df['math_score']>=70]\n",
    "passing_math.count()"
   ]
  },
  {
   "cell_type": "code",
   "execution_count": null,
   "id": "bc4ae875",
   "metadata": {},
   "outputs": [],
   "source": [
    "# Get all the students who are passing math in a new DataFrame.\n",
    "passing_reading = school_data_complete_df[school_data_complete_df['reading_score']>=70]\n",
    "passing_reading.count()"
   ]
  },
  {
   "cell_type": "code",
   "execution_count": null,
   "id": "a1750328",
   "metadata": {},
   "outputs": [],
   "source": [
    "# The total number of students who passed math is 29370.\n",
    "# The total number of students who passed reading is 33610.\n",
    "# The total number of students is 39170.\n",
    "# Percentage of students who passed math\n",
    "passed_math = passing_math['math_score'].count() / school_data_complete_df['math_score'].count() * 100\n",
    "print(f'{passed_math:.2f}')\n",
    "\n",
    "# Percentage of students who passed reading\n",
    "passed_reading = passing_reading['reading_score'].count() / school_data_complete_df['reading_score'].count() * 100\n",
    "print(f'{passed_reading:.2f}')"
   ]
  },
  {
   "cell_type": "code",
   "execution_count": null,
   "id": "d31c6800",
   "metadata": {},
   "outputs": [],
   "source": [
    "# calculate the students who passed both math and reading\n",
    "passing_math_reading = school_data_complete_df[(school_data_complete_df['math_score']>=70) & (school_data_complete_df['reading_score']>=70)]\n",
    "passing_math_reading.student_name.count()"
   ]
  },
  {
   "cell_type": "code",
   "execution_count": null,
   "id": "52fd3999",
   "metadata": {},
   "outputs": [],
   "source": [
    "# Calculate the overall passing percentage.\n",
    "# Calculate the percentage of students who passed both math and reading\n",
    "passed_math_reading = passing_math_reading.student_name.count() / school_data_complete_df.student_name.count()*100\n",
    "print(f'{passed_math_reading:.2f}')"
   ]
  },
  {
   "cell_type": "code",
   "execution_count": null,
   "id": "54844cd0",
   "metadata": {},
   "outputs": [],
   "source": [
    "# Create a district summary DataFrame to summarize the calculations\n",
    "# Create a dictionary with column names as keys and corresponding results as values.\n",
    "# Create a new DataFrame district_summary_df with that dictionary.\n",
    "\n",
    "# Adding a list of values with keys to create a new DataFrame.\n",
    "district_summary_list = {\"Total Schools\": school_data_complete_df.school_name.count(),\n",
    "                            \"Total Students\": school_data_complete_df.student_name.count(),\n",
    "                            \"Total Budget\": total_school_budget,\n",
    "                            \"Average Reading Score\": school_data_complete_df['reading_score'].mean(),\n",
    "                            \"Average Math Score\": school_data_complete_df['math_score'].mean(),\n",
    "                            \"% Passing Reading\": passed_reading,\n",
    "                            \"% Passing Math\": passed_math,\n",
    "                            \"% Overall Passing\": passed_math_reading}\n",
    "district_summary_df = pd.DataFrame([district_summary_list], index=[0])\n",
    "district_summary_df"
   ]
  },
  {
   "cell_type": "code",
   "execution_count": null,
   "id": "4e0f39cc",
   "metadata": {},
   "outputs": [],
   "source": [
    "district_summary_df.count()\n",
    "# Format the \"Total Students\" to have the comma for a thousands separator.\n",
    "district_summary_df[\"Total Students\"] = district_summary_df[\"Total Students\"].map(\"{:,}\".format)\n",
    "district_summary_df[\"Total Students\"]"
   ]
  },
  {
   "cell_type": "code",
   "execution_count": null,
   "id": "e51bb844",
   "metadata": {},
   "outputs": [],
   "source": [
    "# Format \"Total Budget\" to have the comma for a thousands separator, a decimal separator, and a \"$\".\n",
    "district_summary_df[\"Total Budget\"] = district_summary_df[\"Total Budget\"].map(\"${:,.2f}\".format)\n",
    "district_summary_df[\"Total Budget\"]"
   ]
  },
  {
   "cell_type": "code",
   "execution_count": null,
   "id": "5b868aa6",
   "metadata": {},
   "outputs": [],
   "source": [
    "# Format the \"Total Schools\" to have the comma for a thousands separator.\n",
    "district_summary_df[\"Total Schools\"] = district_summary_df[\"Total Schools\"].map(\"{:,}\".format)\n",
    "district_summary_df[\"Total Schools\"]"
   ]
  },
  {
   "cell_type": "code",
   "execution_count": null,
   "id": "cce3cbab",
   "metadata": {},
   "outputs": [],
   "source": [
    "# Format the \"Average Reading Score\" to one decimal place.\n",
    "district_summary_df[\"Average Reading Score\"] = district_summary_df[\"Average Reading Score\"].map(\"{:.1f}\".format)\n",
    "district_summary_df[\"Average Reading Score\"]"
   ]
  },
  {
   "cell_type": "code",
   "execution_count": null,
   "id": "f40682b0",
   "metadata": {},
   "outputs": [],
   "source": [
    "# Format the \"Average Math Score\" to one decimal place.\n",
    "district_summary_df[\"Average Math Score\"] = district_summary_df[\"Average Math Score\"].map(\"{:.1f}\".format)\n",
    "district_summary_df[\"Average Math Score\"]"
   ]
  },
  {
   "cell_type": "code",
   "execution_count": null,
   "id": "4e59558f",
   "metadata": {},
   "outputs": [],
   "source": [
    "# The \"% Passing Reading\" column will be formatted to the nearest whole number percentage.\n",
    "district_summary_df[\"% Passing Reading\"] = district_summary_df[\"% Passing Reading\"].map(\"{:.0f}\".format)\n",
    "district_summary_df[\"% Passing Reading\"]"
   ]
  },
  {
   "cell_type": "code",
   "execution_count": null,
   "id": "13227bff",
   "metadata": {},
   "outputs": [],
   "source": [
    "# The \"% Passing Math\" column will be formatted to the nearest whole number percentage.\n",
    "district_summary_df[\"% Passing Math\"] = district_summary_df[\"% Passing Math\"].map(\"{:.0f}\".format)\n",
    "district_summary_df[\"% Passing Math\"]"
   ]
  },
  {
   "cell_type": "code",
   "execution_count": null,
   "id": "9e9cc170",
   "metadata": {},
   "outputs": [],
   "source": [
    "# The \"% Overall Passing\" column will be formatted to the nearest whole number percentage.\n",
    "district_summary_df[\"% Overall Passing\"] = district_summary_df[\"% Overall Passing\"].map(\"{:.0f}\".format)\n",
    "district_summary_df[\"% Overall Passing\"]"
   ]
  },
  {
   "cell_type": "code",
   "execution_count": null,
   "id": "c6113069",
   "metadata": {},
   "outputs": [],
   "source": [
    "district_summary_df"
   ]
  },
  {
   "cell_type": "code",
   "execution_count": null,
   "id": "94c6b58d",
   "metadata": {},
   "outputs": [],
   "source": [
    "# Reorder the columns in the order you want them to appear.\n",
    "new_column_order = [\"Total Schools\", \"Total Students\", \"Total Budget\",\"Average Math Score\",\n",
    "                    \"Average Reading Score\", \"% Passing Math\", \"% Passing Reading\", \"% Overall Passing\"]\n",
    "\n",
    "district_summary_df = district_summary_df[new_column_order]\n",
    "district_summary_df"
   ]
  },
  {
   "cell_type": "code",
   "execution_count": null,
   "id": "21dc9461",
   "metadata": {},
   "outputs": [],
   "source": []
  }
 ],
 "metadata": {
  "kernelspec": {
   "display_name": "Python 3 (ipykernel)",
   "language": "python",
   "name": "python3"
  },
  "language_info": {
   "codemirror_mode": {
    "name": "ipython",
    "version": 3
   },
   "file_extension": ".py",
   "mimetype": "text/x-python",
   "name": "python",
   "nbconvert_exporter": "python",
   "pygments_lexer": "ipython3",
   "version": "3.7.13"
  },
  "vscode": {
   "interpreter": {
    "hash": "683b17abb3ff6d58958c68d4515126ce98654eaf144600aa19694a6a5d3ea415"
   }
  }
 },
 "nbformat": 4,
 "nbformat_minor": 5
}

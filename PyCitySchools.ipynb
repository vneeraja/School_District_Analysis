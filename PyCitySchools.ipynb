{
 "cells": [
  {
   "cell_type": "code",
   "execution_count": null,
   "id": "68883705",
   "metadata": {},
   "outputs": [],
   "source": [
    "# Add the Pandas dependency\n",
    "import pandas as pd\n",
    "import os"
   ]
  },
  {
   "cell_type": "code",
   "execution_count": null,
   "id": "f9800421",
   "metadata": {},
   "outputs": [],
   "source": [
    "# direct file path to load the csv\n",
    "#school_data_to_load = \"Resources/schools_complete.csv\"\n",
    "#student_data_to_load = \"Resources/students_complete.csv\"\n",
    "\n",
    "# indirect file path to load the csv\n",
    "school_data_to_load = os.path.join(\"Resources\",\"schools_complete.csv\")\n",
    "student_data_to_load = os.path.join(\"Resources\",\"students_complete.csv\")"
   ]
  },
  {
   "cell_type": "code",
   "execution_count": null,
   "id": "e6ed9bcc",
   "metadata": {},
   "outputs": [],
   "source": [
    "# Read the data file\n",
    "school_data_df = pd.read_csv(school_data_to_load)\n",
    "school_data_df.head()"
   ]
  },
  {
   "cell_type": "code",
   "execution_count": null,
   "id": "85a82d48",
   "metadata": {},
   "outputs": [],
   "source": [
    "# Read the student data\n",
    "student_data_df = pd.read_csv(student_data_to_load)\n",
    "student_data_df.head()"
   ]
  },
  {
   "cell_type": "code",
   "execution_count": null,
   "id": "d999681d",
   "metadata": {},
   "outputs": [],
   "source": [
    "# Cleaning the data  \n",
    "# Determine if there are any missing values in the school data using count()\n",
    "school_data_df.count()\n",
    "school_data_df\n"
   ]
  },
  {
   "cell_type": "code",
   "execution_count": null,
   "id": "725690f0",
   "metadata": {},
   "outputs": [],
   "source": [
    "# Determine if there are any missing values in the student data using count()\n",
    "student_data_df.count()"
   ]
  },
  {
   "cell_type": "code",
   "execution_count": null,
   "id": "18a43df1",
   "metadata": {},
   "outputs": [],
   "source": [
    "# Determine if there are any missing values in the student data using isnull()\n",
    "school_data_df.isnull()"
   ]
  },
  {
   "cell_type": "code",
   "execution_count": null,
   "id": "72ffd868",
   "metadata": {},
   "outputs": [],
   "source": [
    "# Determine if there are any missing values in the student data using isnull()\n",
    "student_data_df.isnull().sum()"
   ]
  },
  {
   "cell_type": "code",
   "execution_count": null,
   "id": "3fbc165d",
   "metadata": {},
   "outputs": [],
   "source": [
    "# Determine if there are any missing values in the student data using notnull()\n",
    "school_data_df.notnull()\n"
   ]
  },
  {
   "cell_type": "code",
   "execution_count": null,
   "id": "fc386f18",
   "metadata": {},
   "outputs": [],
   "source": [
    "# Determine if there are any missing values in the student data using notnull()\n",
    "student_data_df.notnull().sum()"
   ]
  },
  {
   "cell_type": "code",
   "execution_count": null,
   "id": "dd359024",
   "metadata": {},
   "outputs": [],
   "source": [
    "# Determine the data types for the school DataFrame\n",
    "school_data_df.dtypes"
   ]
  },
  {
   "cell_type": "code",
   "execution_count": null,
   "id": "3c3ad969",
   "metadata": {},
   "outputs": [],
   "source": [
    "# Determine the datatypes for columns inschool data\n",
    "school_data_df.size.dtype"
   ]
  },
  {
   "cell_type": "code",
   "execution_count": null,
   "id": "7435aed4",
   "metadata": {},
   "outputs": [],
   "source": [
    "# Determine the datatype for 'budget' column\n",
    "school_data_df.budget.dtype"
   ]
  },
  {
   "cell_type": "code",
   "execution_count": null,
   "id": "c4165f4d",
   "metadata": {},
   "outputs": [],
   "source": [
    "school_data_df['budget'].dtype"
   ]
  },
  {
   "cell_type": "code",
   "execution_count": null,
   "id": "e8167e7e",
   "metadata": {},
   "outputs": [],
   "source": [
    "# Determine the datatypes for columns in student data\n",
    "student_data_df.dtypes"
   ]
  },
  {
   "cell_type": "code",
   "execution_count": null,
   "id": "8057c984",
   "metadata": {},
   "outputs": [],
   "source": [
    "# Clean up the prefixes and suffixes in the student names \n",
    "# Add each prefix and suffix to remove to a list.\n",
    "prefixes_suffixes = [\"Dr. \", \"Mr. \",\"Ms. \", \"Mrs. \", \"Miss \", \" MD\", \" DDS\", \" DVM\", \" PhD\"]\n",
    "\n",
    "for word in prefixes_suffixes:\n",
    "    student_data_df[\"student_name\"] = student_data_df[\"student_name\"].str.replace(word,\"\")\n",
    "print(student_data_df.sample(15))"
   ]
  },
  {
   "cell_type": "code",
   "execution_count": null,
   "id": "498d6e12",
   "metadata": {},
   "outputs": [],
   "source": []
  },
  {
   "cell_type": "code",
   "execution_count": null,
   "id": "70622f53",
   "metadata": {},
   "outputs": [],
   "source": []
  },
  {
   "cell_type": "code",
   "execution_count": null,
   "id": "571db6f6",
   "metadata": {},
   "outputs": [],
   "source": []
  }
 ],
 "metadata": {
  "kernelspec": {
   "display_name": "PythonData",
   "language": "python",
   "name": "pythondata"
  },
  "language_info": {
   "codemirror_mode": {
    "name": "ipython",
    "version": 3
   },
   "file_extension": ".py",
   "mimetype": "text/x-python",
   "name": "python",
   "nbconvert_exporter": "python",
   "pygments_lexer": "ipython3",
   "version": "3.7.13"
  }
 },
 "nbformat": 4,
 "nbformat_minor": 5
}

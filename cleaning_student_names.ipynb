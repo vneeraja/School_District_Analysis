{
 "cells": [
  {
   "cell_type": "code",
   "execution_count": null,
   "id": "b55746a4",
   "metadata": {},
   "outputs": [],
   "source": [
    "# Add the dependencies\n",
    "import pandas as pd"
   ]
  },
  {
   "cell_type": "code",
   "execution_count": null,
   "id": "9793e67e",
   "metadata": {},
   "outputs": [],
   "source": [
    "# Provide the file path to load the csv\n",
    "Student_data_to_load = \"Resources/students_complete.csv\"\n",
    "\n",
    "# Read the file \n",
    "student_data_df = pd.read_csv(Student_data_to_load)\n",
    "student_data_df.head()\n",
    "student_data_df.tail()"
   ]
  },
  {
   "cell_type": "code",
   "execution_count": null,
   "id": "6f57f034",
   "metadata": {},
   "outputs": [],
   "source": [
    "# Put all the student names or data to clean in a seperate list\n",
    "student_names_list = student_data_df[\"student_name\"].tolist()\n",
    "student_names_list"
   ]
  },
  {
   "cell_type": "code",
   "execution_count": null,
   "id": "7baa47ae",
   "metadata": {},
   "outputs": [],
   "source": [
    "# Example of using split()\n",
    "name = \"Mrs. Linda Santiago\"\n",
    "name.split()"
   ]
  },
  {
   "cell_type": "code",
   "execution_count": 27,
   "id": "b71c9013",
   "metadata": {},
   "outputs": [
    {
     "name": "stdout",
     "output_type": "stream",
     "text": [
      "1531\n"
     ]
    }
   ],
   "source": [
    "# Split the student names\n",
    "\n",
    "# Initialize the new list of students\n",
    "\n",
    "names_to_correct = []\n",
    "\n",
    "for names in student_names_list:\n",
    "    name = names.split()\n",
    "    \n",
    "    if(len(name) >= 3):\n",
    "        names_to_correct.append(name)\n",
    "print(len(names_to_correct))\n",
    "\n",
    "# Add the prefixes less than or equal to 4 to a new list.\n",
    "prefixes = []\n",
    "\n",
    "# Iterate through the names_to_correct list to check the prefix and add it to a list\n",
    "for name in names_to_correct:\n",
    "    prefix = name[0]\n",
    "    if len(prefix) <= 4:\n",
    "        prefixes.append(prefix)\n",
    "#print(prefixes)\n",
    "    \n",
    "# Add the suffixes less than or equal to 3 to a new list.    \n",
    "suffixes = []\n",
    "\n",
    "# Iterate through the names_to_correct list to check the suffix and add it to a list\n",
    "for names in names_to_correct:\n",
    "    suffix = names[-1]\n",
    "    if len(suffix) <= 3:\n",
    "        suffixes.append(suffix)\n",
    "#print(suffixes)        \n",
    "\n",
    "          \n",
    "        "
   ]
  },
  {
   "cell_type": "code",
   "execution_count": null,
   "id": "1917663f",
   "metadata": {},
   "outputs": [],
   "source": [
    "# Get the unique elements in the 'prefixes' list\n",
    "set(prefixes)"
   ]
  },
  {
   "cell_type": "code",
   "execution_count": null,
   "id": "a4f44ae3",
   "metadata": {},
   "outputs": [],
   "source": [
    "# Get the unique set of prefixes form the suffixes list\n",
    "set(suffixes)\n"
   ]
  },
  {
   "cell_type": "code",
   "execution_count": 28,
   "id": "7f17c1ce",
   "metadata": {},
   "outputs": [
    {
     "name": "stderr",
     "output_type": "stream",
     "text": [
      "C:\\Users\\neera\\anaconda3\\envs\\PythonData\\lib\\site-packages\\ipykernel_launcher.py:6: FutureWarning: The default value of regex will change from True to False in a future version.\n",
      "  \n"
     ]
    },
    {
     "name": "stdout",
     "output_type": "stream",
     "text": [
      "   Student ID     student_name gender grade        school_name  reading_score  \\\n",
      "0           0     Paul Bradley      M   9th  Huang High School             66   \n",
      "1           1     Victor Smith      M  12th  Huang High School             94   \n",
      "2           2  Kevin Rodriguez      M  12th  Huang High School             90   \n",
      "3           3    Richard Scott      M  12th  Huang High School             67   \n",
      "4           4       Bonnie Ray      F   9th  Huang High School             97   \n",
      "\n",
      "   math_score  \n",
      "0          79  \n",
      "1          61  \n",
      "2          60  \n",
      "3          58  \n",
      "4          84  \n",
      "39170\n"
     ]
    }
   ],
   "source": [
    "# Add each prefix and suffix to remove to a list.\n",
    "prefixes_suffixes = [\"Dr. \", \"Mr. \",\"Ms. \", \"Mrs. \", \"Miss \", \" MD\", \" DDS\", \" DVM\", \" PhD\"]\n",
    "\n",
    "# Change datatype of the student_name column to a string\n",
    "for word in prefixes_suffixes:\n",
    "    student_data_df[\"student_name\"] = student_data_df[\"student_name\"].str.replace(word,\"\")\n",
    "print(student_data_df.head())\n",
    "print(student_data_df[\"student_name\"].count())\n",
    "            "
   ]
  },
  {
   "cell_type": "code",
   "execution_count": 24,
   "id": "de85759a",
   "metadata": {},
   "outputs": [
    {
     "name": "stdout",
     "output_type": "stream",
     "text": [
      "151\n"
     ]
    }
   ],
   "source": [
    "# Initilize a new list to hold the corrected student names\n",
    "corrected_student_list = []\n",
    "\n",
    "# to check if all the student names have been corrected\n",
    "students_names_list =  student_data_df[\"student_name\"].tolist()\n",
    "for names in students_names_list:\n",
    "    name = names.split()\n",
    "    if (len(name) >= 3):\n",
    "        corrected_student_list.append(name)\n",
    "print(len(corrected_student_list))"
   ]
  },
  {
   "cell_type": "code",
   "execution_count": null,
   "id": "0c4954b8",
   "metadata": {},
   "outputs": [],
   "source": []
  },
  {
   "cell_type": "code",
   "execution_count": null,
   "id": "02ad7216",
   "metadata": {},
   "outputs": [],
   "source": []
  }
 ],
 "metadata": {
  "kernelspec": {
   "display_name": "PythonData",
   "language": "python",
   "name": "pythondata"
  },
  "language_info": {
   "codemirror_mode": {
    "name": "ipython",
    "version": 3
   },
   "file_extension": ".py",
   "mimetype": "text/x-python",
   "name": "python",
   "nbconvert_exporter": "python",
   "pygments_lexer": "ipython3",
   "version": "3.7.13"
  }
 },
 "nbformat": 4,
 "nbformat_minor": 5
}
